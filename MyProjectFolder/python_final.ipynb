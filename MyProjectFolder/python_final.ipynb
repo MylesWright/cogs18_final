{
 "cells": [
  {
   "cell_type": "code",
   "execution_count": null,
   "metadata": {},
   "outputs": [],
   "source": [
    "#My project was to create a program that would check to see how strong a\n",
    "#password is. My original intention was to do this using regualar \n",
    "#expressions, but  that didn't work out very well and I would have needed\n",
    "#to many to parse a line of text. I ultimatley decided just to loop\n",
    "#through the text and see if any of those loops was part of the \n",
    "#dictionary I had been using. However, that created other issues as there\n",
    "#are a ton of 3 letter words in my dictionary. Basically you should \n",
    "#import a password and when run, give you recommendations."
   ]
  }
 ],
 "metadata": {
  "kernelspec": {
   "display_name": "Python 3",
   "language": "python",
   "name": "python3"
  },
  "language_info": {
   "codemirror_mode": {
    "name": "ipython",
    "version": 3
   },
   "file_extension": ".py",
   "mimetype": "text/x-python",
   "name": "python",
   "nbconvert_exporter": "python",
   "pygments_lexer": "ipython3",
   "version": "3.7.0"
  }
 },
 "nbformat": 4,
 "nbformat_minor": 2
}
